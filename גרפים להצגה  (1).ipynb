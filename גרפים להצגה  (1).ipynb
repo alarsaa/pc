{
 "cells": [
  {
   "cell_type": "code",
   "execution_count": null,
   "metadata": {},
   "outputs": [],
   "source": []
  },
  {
   "cell_type": "code",
   "execution_count": 4,
   "metadata": {},
   "outputs": [
    {
     "data": {
      "application/vnd.jupyter.widget-view+json": {
       "model_id": "9d70f5d9eb7f4c168e1fc5a496406ef2",
       "version_major": 2,
       "version_minor": 0
      },
      "text/plain": [
       "interactive(children=(FloatSlider(value=0.03, description='M', max=0.1, step=0.01), FloatSlider(value=0.02, de…"
      ]
     },
     "metadata": {},
     "output_type": "display_data"
    }
   ],
   "source": [
    "import numpy as np\n",
    "import matplotlib.pyplot as plt\n",
    "from ipywidgets import interactive\n",
    "import ipywidgets as widgets\n",
    "import streamlit as st\n",
    "\n",
    "\n",
    "def combined_plot(M, A, P, E_P, E_C, E_M, e, LR_0, C):\n",
    "    # Define range for n\n",
    "    n_values = np.arange(1, 70)  # Calculate for n from 1 to 100\n",
    "    \n",
    "    # Market Growth Factor\n",
    "    market_growth_factors = ((1 + M) / (1 + A)) ** n_values\n",
    "    \n",
    "    # Premium Growth Factor\n",
    "    premium_growth_factors = (1 + P) ** n_values\n",
    "    \n",
    "    # Elasticity Factors\n",
    "    elasticity_premium_factors = 1 + E_P * (1 / (1 + P) ** n_values - 1)\n",
    "    elasticity_claims_factors = 1 + E_C * ((1 + C) ** n_values - 1)\n",
    "    elasticity_market_factors = 1 + E_M * ((1 + M) ** n_values - 1)\n",
    "    elasticity_combined_factors = elasticity_premium_factors * elasticity_claims_factors * elasticity_market_factors\n",
    "    \n",
    "    # Breakeven Factor\n",
    "    constant_term = (1 - e)\n",
    "    decay_term = LR_0 * ((1 + C) / (1 + P)) ** n_values\n",
    "    breakeven_factors = constant_term - decay_term\n",
    "    \n",
    "    # Compute the terms of the cumulative sum\n",
    "    term = market_growth_factors * premium_growth_factors * elasticity_combined_factors * breakeven_factors\n",
    "    \n",
    "    # Calculate the cumulative sum\n",
    "    cumulative_sum = np.cumsum(term)\n",
    "    \n",
    "    # Plotting\n",
    "    plt.figure(figsize=(14, 8))\n",
    "\n",
    "    # Plot each factor with improved lines\n",
    "    plt.plot(n_values, market_growth_factors, label='Market Growth Factor', color='blue', linewidth=2)\n",
    "    plt.plot(n_values, premium_growth_factors, label='Premium Growth Factor', color='cyan', linewidth=2)\n",
    "    plt.plot(n_values, elasticity_combined_factors, label='Elasticity Combined Factor', color='green', linewidth=2)\n",
    "    plt.plot(n_values, breakeven_factors, label='Breakeven Factor', color='orange', linewidth=2)\n",
    "\n",
    "    # Plot the final cumulative sum with a dashed line\n",
    "    plt.plot(n_values, cumulative_sum, label='Final Cumulative Sum of Profit Factor', linestyle='--', linewidth=2, color='black')\n",
    "\n",
    "    # Improve legend placement\n",
    "    plt.legend(loc='upper left', bbox_to_anchor=(1, 1))\n",
    "\n",
    "    plt.xlabel('Time Period (n)')\n",
    "    plt.ylabel('')\n",
    "    plt.title('')\n",
    "    plt.grid(True)\n",
    "    plt.show()\n",
    "\n",
    "# Create interactive widgets\n",
    "interactive_combined_plot = interactive(\n",
    "    combined_plot,\n",
    "    M=widgets.FloatSlider(min=0, max=0.1, step=0.01, value=0.03),\n",
    "    A=widgets.FloatSlider(min=0, max=0.1, step=0.01, value=0.02),\n",
    "    P=widgets.FloatSlider(min=0, max=0.1, step=0.01, value=0.01),\n",
    "    E_P=widgets.FloatSlider(min=-1, max=1, step=0.1, value=1.00),\n",
    "    E_C=widgets.FloatSlider(min=0, max=1, step=0.1, value=0.50),\n",
    "    E_M=widgets.FloatSlider(min=0, max=1, step=0.1, value=0.10),\n",
    "    e=widgets.FloatSlider(min=0, max=1, step=0.01, value=0.47),\n",
    "    LR_0=widgets.FloatSlider(min=0, max=1, step=0.1, value=0.35),\n",
    "    C=widgets.FloatSlider(min=0, max=0.1, step=0.01, value=0.02)\n",
    ")\n",
    "\n",
    "# Display the interactive plot\n",
    "interactive_combined_plot"
   ]
  },
  {
   "cell_type": "code",
   "execution_count": 5,
   "metadata": {},
   "outputs": [
    {
     "data": {
      "application/vnd.jupyter.widget-view+json": {
       "model_id": "92c1625db5c54eaa8fd9dc8a06620d11",
       "version_major": 2,
       "version_minor": 0
      },
      "text/plain": [
       "interactive(children=(FloatSlider(value=0.03, description='M', max=0.1, step=0.01), FloatSlider(value=0.02, de…"
      ]
     },
     "metadata": {},
     "output_type": "display_data"
    }
   ],
   "source": [
    "\n",
    "def combined_plot(M, A, P, E_P, E_C, E_M, e, LR_0, C):\n",
    "    # Define range for n\n",
    "    n_values = np.arange(1, 70)  # Calculate for n from 1 to 100\n",
    "    \n",
    "    # Market Growth Factor\n",
    "    market_growth_factors = ((1 + M) / (1 + A)) ** n_values\n",
    "    \n",
    "    # Premium Growth Factor\n",
    "    premium_growth_factors = (1 + P) ** n_values\n",
    "    \n",
    "    # Elasticity Factors\n",
    "    elasticity_premium_factors = 1 + E_P * (1 / (1 + P) ** n_values - 1)\n",
    "    elasticity_claims_factors = 1 + E_C * ((1 + C) ** n_values - 1)\n",
    "    elasticity_market_factors = 1 + E_M * ((1 + M) ** n_values - 1)\n",
    "    elasticity_combined_factors = elasticity_premium_factors * elasticity_claims_factors * elasticity_market_factors\n",
    "    \n",
    "    # Breakeven Factor\n",
    "    constant_term = (1 - e)\n",
    "    decay_term = LR_0 * ((1 + C) / (1 + P)) ** n_values\n",
    "    breakeven_factors = constant_term - decay_term\n",
    "    \n",
    "    # Compute the terms of the cumulative sum\n",
    "    term = market_growth_factors * premium_growth_factors * elasticity_combined_factors * breakeven_factors\n",
    "    \n",
    "    # Calculate the cumulative sum\n",
    "    cumulative_sum = np.cumsum(term)\n",
    "    \n",
    "    # Plotting\n",
    "    plt.figure(figsize=(14, 8))\n",
    "\n",
    "    # Plot each factor with improved lines\n",
    "    plt.plot(n_values, market_growth_factors, label='Market Growth Factor', color='blue', linewidth=2)\n",
    "    plt.plot(n_values, premium_growth_factors, label='Premium Growth Factor', color='cyan', linewidth=2)\n",
    "    plt.plot(n_values, elasticity_combined_factors, label='Elasticity Combined Factor', color='green', linewidth=2)\n",
    "    plt.plot(n_values, breakeven_factors, label='Breakeven Factor', color='orange', linewidth=2)\n",
    "\n",
    "    \n",
    "    # Improve legend placement\n",
    "    plt.legend(loc='upper left', bbox_to_anchor=(1, 1))\n",
    "\n",
    "    plt.xlabel('Time Period (n)')\n",
    "    plt.ylabel('')\n",
    "    plt.title('')\n",
    "    plt.grid(True)\n",
    "    plt.show()\n",
    "\n",
    "# Create interactive widgets\n",
    "interactive_combined_plot = interactive(\n",
    "    combined_plot,\n",
    "    M=widgets.FloatSlider(min=0, max=0.1, step=0.01, value=0.03),\n",
    "    A=widgets.FloatSlider(min=0, max=0.1, step=0.01, value=0.02),\n",
    "    P=widgets.FloatSlider(min=0, max=0.1, step=0.01, value=0.01),\n",
    "    E_P=widgets.FloatSlider(min=-1, max=1, step=0.1, value=1.00),\n",
    "    E_C=widgets.FloatSlider(min=0, max=1, step=0.1, value=0.50),\n",
    "    E_M=widgets.FloatSlider(min=0, max=1, step=0.1, value=0.10),\n",
    "    e=widgets.FloatSlider(min=0, max=1, step=0.01, value=0.47),\n",
    "    LR_0=widgets.FloatSlider(min=0, max=1, step=0.1, value=0.35),\n",
    "    C=widgets.FloatSlider(min=0, max=0.1, step=0.01, value=0.02)\n",
    ")\n",
    "\n",
    "# Display the interactive plot\n",
    "interactive_combined_plot"
   ]
  },
  {
   "cell_type": "code",
   "execution_count": 6,
   "metadata": {},
   "outputs": [
    {
     "data": {
      "application/vnd.jupyter.widget-view+json": {
       "model_id": "1b0eabc9e8d3482d83026cda4e2efae7",
       "version_major": 2,
       "version_minor": 0
      },
      "text/plain": [
       "interactive(children=(FloatSlider(value=0.03, description='M', max=0.1, step=0.01), FloatSlider(value=0.02, de…"
      ]
     },
     "metadata": {},
     "output_type": "display_data"
    }
   ],
   "source": [
    "\n",
    "def combined_plot(M, A, P, E_P, E_C, E_M, e, LR_0, C):\n",
    "    # Define range for n\n",
    "    n_values = np.arange(1, 70)  # Calculate for n from 1 to 100\n",
    "    \n",
    "   \n",
    "    \n",
    "    # Breakeven Factor\n",
    "    constant_term = (1 - e)\n",
    "    decay_term = LR_0 * ((1 + C) / (1 + P)) ** n_values\n",
    "    breakeven_factors = constant_term - decay_term\n",
    "    \n",
    "   \n",
    "    # Plotting\n",
    "    plt.figure(figsize=(14, 8))\n",
    "\n",
    "    # Plot each factor with improved lines\n",
    "   \n",
    "    plt.plot(n_values, breakeven_factors, label='Breakeven Factor', color='orange', linewidth=2)\n",
    "\n",
    "    \n",
    "    # Improve legend placement\n",
    "    plt.legend(loc='upper left', bbox_to_anchor=(1, 1))\n",
    "\n",
    "    plt.xlabel('Time Period (n)')\n",
    "    plt.ylabel('')\n",
    "    plt.title('')\n",
    "    plt.grid(True)\n",
    "    plt.show()\n",
    "\n",
    "# Create interactive widgets\n",
    "interactive_combined_plot = interactive(\n",
    "    combined_plot,\n",
    "    M=widgets.FloatSlider(min=0, max=0.1, step=0.01, value=0.03),\n",
    "    A=widgets.FloatSlider(min=0, max=0.1, step=0.01, value=0.02),\n",
    "    P=widgets.FloatSlider(min=0, max=0.1, step=0.01, value=0.01),\n",
    "    E_P=widgets.FloatSlider(min=-1, max=1, step=0.1, value=1.00),\n",
    "    E_C=widgets.FloatSlider(min=0, max=1, step=0.1, value=0.50),\n",
    "    E_M=widgets.FloatSlider(min=0, max=1, step=0.1, value=0.10),\n",
    "    e=widgets.FloatSlider(min=0, max=1, step=0.01, value=0.47),\n",
    "    LR_0=widgets.FloatSlider(min=0, max=1, step=0.1, value=0.35),\n",
    "    C=widgets.FloatSlider(min=0, max=0.1, step=0.01, value=0.02)\n",
    ")\n",
    "\n",
    "# Display the interactive plot\n",
    "interactive_combined_plot"
   ]
  },
  {
   "cell_type": "code",
   "execution_count": null,
   "metadata": {},
   "outputs": [],
   "source": []
  },
  {
   "cell_type": "code",
   "execution_count": null,
   "metadata": {},
   "outputs": [],
   "source": []
  }
 ],
 "metadata": {
  "kernelspec": {
   "display_name": "Python 3",
   "language": "python",
   "name": "python3"
  },
  "language_info": {
   "codemirror_mode": {
    "name": "ipython",
    "version": 3
   },
   "file_extension": ".py",
   "mimetype": "text/x-python",
   "name": "python",
   "nbconvert_exporter": "python",
   "pygments_lexer": "ipython3",
   "version": "3.7.6"
  }
 },
 "nbformat": 4,
 "nbformat_minor": 4
}
