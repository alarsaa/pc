{
 "cells": [
  {
   "cell_type": "code",
   "execution_count": 2,
   "id": "703d54f2",
   "metadata": {},
   "outputs": [
    {
     "data": {
      "application/vnd.jupyter.widget-view+json": {
       "model_id": "e33e1808a0064ae6b4aa1eeb811b8c5a",
       "version_major": 2,
       "version_minor": 0
      },
      "text/plain": [
       "VBox(children=(FloatSlider(value=0.03, description=' (M)', max=0.1, step=0.01), FloatSlider(value=0.02, descri…"
      ]
     },
     "metadata": {},
     "output_type": "display_data"
    },
    {
     "data": {
      "application/vnd.jupyter.widget-view+json": {
       "model_id": "af489cea8abd4bdeaabc68c2c7892038",
       "version_major": 2,
       "version_minor": 0
      },
      "text/plain": [
       "Output()"
      ]
     },
     "metadata": {},
     "output_type": "display_data"
    }
   ],
   "source": [
    "import numpy as np\n",
    "import matplotlib.pyplot as plt\n",
    "from ipywidgets import interactive, widgets\n",
    "from IPython.display import display\n",
    "\n",
    "def compute_factors(M, A, P, E_P, E_C, E_M, e, LR_0, C):\n",
    "    n_values = np.arange(1, 70)  # Calculate for n from 1 to 100\n",
    "    market_growth_factors = ((1 + M) / (1 + A)) ** n_values\n",
    "    premium_growth_factors = (1 + P) ** n_values\n",
    "    elasticity_premium_factors = 1 + E_P * (1 / (1 + P) ** n_values - 1)\n",
    "    elasticity_claims_factors = 1 + E_C * ((1 + C) ** n_values - 1)\n",
    "    elasticity_market_factors = 1 + E_M * ((1 + M) ** n_values - 1)\n",
    "    elasticity_combined_factors = elasticity_premium_factors * elasticity_claims_factors * elasticity_market_factors\n",
    "    constant_term = (1 - e)\n",
    "    decay_term = LR_0 * ((1 + C) / (1 + P)) ** n_values\n",
    "    breakeven_factors = constant_term - decay_term\n",
    "    term = market_growth_factors * premium_growth_factors * elasticity_combined_factors * breakeven_factors\n",
    "    cumulative_sum = np.cumsum(term)\n",
    "    \n",
    "    return n_values, market_growth_factors, premium_growth_factors, elasticity_combined_factors, breakeven_factors, cumulative_sum\n",
    "\n",
    "def combined_plot(M, A, P, E_P, E_C, E_M, e, LR_0, C):\n",
    "    n_values, market_growth_factors, premium_growth_factors, elasticity_combined_factors, breakeven_factors, cumulative_sum = compute_factors(M, A, P, E_P, E_C, E_M, e, LR_0, C)\n",
    "\n",
    "    plt.figure(figsize=(14, 8))\n",
    "    plt.plot(n_values, market_growth_factors, label='Market Growth Factor', color='blue', linewidth=2)\n",
    "    plt.plot(n_values, premium_growth_factors, label='Premium Growth Factor', color='cyan', linewidth=2)\n",
    "    plt.plot(n_values, elasticity_combined_factors, label='Elasticity Combined Factor', color='green', linewidth=2)\n",
    "    plt.plot(n_values, breakeven_factors, label='Breakeven Factor', color='orange', linewidth=2)\n",
    "    plt.plot(n_values, cumulative_sum, label='Final Cumulative Sum of Profit Factor', linestyle='--', linewidth=2, color='black')\n",
    "    plt.legend(loc='upper left', bbox_to_anchor=(1, 1))\n",
    "    plt.xlabel('Time Period (n)')\n",
    "    plt.ylabel('')\n",
    "    plt.title('')\n",
    "    plt.grid(True)\n",
    "    plt.show()\n",
    "\n",
    "# Create interactive widgets\n",
    "M_slider = widgets.FloatSlider(min=0, max=0.1, step=0.01, value=0.03, description=' (M)')\n",
    "A_slider = widgets.FloatSlider(min=0, max=0.1, step=0.01, value=0.02, description=' (A)')\n",
    "P_slider = widgets.FloatSlider(min=0, max=0.1, step=0.01, value=0.01, description=' (P)')\n",
    "E_P_slider = widgets.FloatSlider(min=-1, max=1, step=0.1, value=1.00, description=' (E_P)')\n",
    "E_C_slider = widgets.FloatSlider(min=0, max=1, step=0.1, value=0.50, description=' (E_C)')\n",
    "E_M_slider = widgets.FloatSlider(min=0, max=1, step=0.1, value=0.10, description=' (E_M)')\n",
    "e_slider = widgets.FloatSlider(min=0, max=1, step=0.01, value=0.47, description=' (e)')\n",
    "LR_0_slider = widgets.FloatSlider(min=0, max=1, step=0.1, value=0.35, description=' (LR_0)')\n",
    "C_slider = widgets.FloatSlider(min=0, max=0.1, step=0.01, value=0.02, description=' (C)')\n",
    "\n",
    "ui = widgets.VBox([M_slider, A_slider, P_slider, E_P_slider, E_C_slider, E_M_slider, e_slider, LR_0_slider, C_slider])\n",
    "out = widgets.interactive_output(combined_plot, {'M': M_slider, 'A': A_slider, 'P': P_slider, 'E_P': E_P_slider, 'E_C': E_C_slider, 'E_M': E_M_slider, 'e': e_slider, 'LR_0': LR_0_slider, 'C': C_slider})\n",
    "\n",
    "display(ui, out)\n"
   ]
  },
  {
   "cell_type": "code",
   "execution_count": null,
   "id": "284785de",
   "metadata": {},
   "outputs": [],
   "source": []
  }
 ],
 "metadata": {
  "kernelspec": {
   "display_name": "Python 3",
   "language": "python",
   "name": "python3"
  },
  "language_info": {
   "codemirror_mode": {
    "name": "ipython",
    "version": 3
   },
   "file_extension": ".py",
   "mimetype": "text/x-python",
   "name": "python",
   "nbconvert_exporter": "python",
   "pygments_lexer": "ipython3",
   "version": "3.7.6"
  }
 },
 "nbformat": 4,
 "nbformat_minor": 5
}
